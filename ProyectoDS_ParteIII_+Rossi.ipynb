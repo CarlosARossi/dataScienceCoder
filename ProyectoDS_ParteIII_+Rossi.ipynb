{
  "cells": [
    {
      "cell_type": "markdown",
      "metadata": {
        "id": "view-in-github",
        "colab_type": "text"
      },
      "source": [
        "<a href=\"https://colab.research.google.com/github/CarlosARossi/dataScienceCoder/blob/main/ProyectoDS_ParteIII_%2BRossi.ipynb\" target=\"_parent\"><img src=\"https://colab.research.google.com/assets/colab-badge.svg\" alt=\"Open In Colab\"/></a>"
      ]
    },
    {
      "cell_type": "markdown",
      "metadata": {
        "id": "s-WjbDEf_F46"
      },
      "source": [
        "# Estructurando un Proyecto de DS (parte III)\n"
      ]
    },
    {
      "cell_type": "markdown",
      "metadata": {
        "id": "6f9CuCjw_H3B"
      },
      "source": [
        "### Consigna\n",
        "\n",
        "Crearás un notebook que complemente el trabajo realizado en los siguientes apartados: \n",
        "1. Elegir un método de feature selection para reducir la dimensionalidad del dataset.\n",
        "2. Elegir un algoritmo de regresión o clasificación para entrenar con los datos elegidos.\n",
        "3. Cálculo de métricas para validar el modelo.\n",
        "4. Generar conclusiones con base en los resultados obtenidos.\n",
        "\n",
        "\n",
        "\n",
        "\n"
      ]
    },
    {
      "cell_type": "markdown",
      "metadata": {
        "id": "kONFEEDXgar_"
      },
      "source": [
        "### 1. Importación de librerias y datasets"
      ]
    },
    {
      "cell_type": "code",
      "execution_count": 161,
      "metadata": {
        "id": "SNRSbuvnfAFp"
      },
      "outputs": [],
      "source": [
        "import pandas as pd\n",
        "import matplotlib.pyplot as plt\n",
        "import seaborn as sns\n",
        "import statsmodels.formula.api as sm\n",
        "import numpy as np"
      ]
    },
    {
      "cell_type": "markdown",
      "metadata": {
        "id": "zzWlYJBM-XmD"
      },
      "source": [
        "Importo el dataset generado en el notebook [ProyectoDS_ParteII_+Rossi.ipynb](https://github.com/CarlosARossi/dataScienceCoder/blob/main/ProyectoDS_ParteII_%2BRossi.ipynb)"
      ]
    },
    {
      "cell_type": "code",
      "execution_count": 162,
      "metadata": {
        "colab": {
          "base_uri": "https://localhost:8080/",
          "height": 0
        },
        "id": "8fhH_gXPfDmb",
        "outputId": "975b5142-dba1-4297-c6d5-80e2a6b124f2"
      },
      "outputs": [
        {
          "output_type": "execute_result",
          "data": {
            "text/plain": [
              "          ID        Timestamp Age.Range  Years.of.Experience  \\\n",
              "0          1   12/8/2021 3:05     18-21                  3.0   \n",
              "1          2  12/9/2021 15:49     30-33                  5.0   \n",
              "2          3   12/8/2021 2:16     18-21                  1.0   \n",
              "3          4   12/8/2021 5:15     18-21                  2.0   \n",
              "4          5  12/8/2021 14:16     34-37                 13.0   \n",
              "...      ...              ...       ...                  ...   \n",
              "31757  31758  12/17/2021 1:49     30-33                  5.0   \n",
              "31758  31759  12/23/2021 4:12     22-25                  5.0   \n",
              "31759  31760  12/7/2021 19:40       58+                  NaN   \n",
              "31760  32569   1/7/2022 12:40     26-29                  4.0   \n",
              "31761  32570   1/7/2022 12:41     22-25                  3.0   \n",
              "\n",
              "                Industry                                    Job.Title  \\\n",
              "0                 GAMING                                     STREAMER   \n",
              "1             HEALTHCARE  AESTHETIC NURSE PRACTITIONER/BUSINESS OWNER   \n",
              "2          ONLINE ARCADE                                        OWNER   \n",
              "3                 CRYPTO                            HEAD OF MARKETING   \n",
              "4       WINDOW COVERINGS                                        OWNER   \n",
              "...                  ...                                          ...   \n",
              "31757          ECOMMERCE                               DESIGN MANAGER   \n",
              "31758   HOTEL/RESTAURANT                                 MANAGER/CHEF   \n",
              "31759             SPORTS                                      ANALYST   \n",
              "31760  MATERIAL HANDLING                         SOLUTIONS CONSULTANT   \n",
              "31761  MATERIAL HANDLING                       ENGINEERING SUPERVISOR   \n",
              "\n",
              "                  Company.Name          Education           Location  Country  \\\n",
              "0                       TWITCH               None     LOS ANGELES CA       US   \n",
              "1             AESTHETIC CLINIC    Master's Degree           WINNIPEG   CANADA   \n",
              "2                   RUST CLASH    High School/GED          SAN DIEGO       US   \n",
              "3                     REDACTED       Some College          TAMPA, FL       US   \n",
              "4      CAROLINA BLIND CRAFTERS  Bachelor's Degree      CHARLOTTE, NC       US   \n",
              "...                        ...                ...                ...      ...   \n",
              "31757                      MIS  Bachelor's Degree             MUMBAI    INDIA   \n",
              "31758              CASA BAROLO  Bachelor's Degree  CLUJ-NAPOCA, CLUJ  ROMANIA   \n",
              "31759                     ESPN               None          SAN JOSE        US   \n",
              "31760                  DEMATIC  Bachelor's Degree   GRAND RAPIDS, MI       US   \n",
              "31761                HONEYWELL  Bachelor's Degree          MASON, OH       US   \n",
              "\n",
              "       ...  Open.To.Discuss.Salary  \\\n",
              "0      ...                      No   \n",
              "1      ...                     Yes   \n",
              "2      ...                     Yes   \n",
              "3      ...                     Yes   \n",
              "4      ...                      No   \n",
              "...    ...                     ...   \n",
              "31757  ...                      No   \n",
              "31758  ...                     Yes   \n",
              "31759  ...                      No   \n",
              "31760  ...                     Yes   \n",
              "31761  ...                     Yes   \n",
              "\n",
              "       How.many.months.Maternity.or.Paternity.does.your.company.offer.  \\\n",
              "0                                     as much as i want                  \n",
              "1                                                    NaN                 \n",
              "2                                                    NaN                 \n",
              "3                                               Not sure                 \n",
              "4                                                   None                 \n",
              "...                                                  ...                 \n",
              "31757                                                NaN                 \n",
              "31758                                                 24                 \n",
              "31759                                                  0                 \n",
              "31760                                                NaN                 \n",
              "31761                                                NaN                 \n",
              "\n",
              "       Gender   X Diverse.Identity..Optional.              Description  \\\n",
              "0        Male NaN                         NaN                   TWITCH   \n",
              "1        Male NaN                         NaN         AESTHETIC CLINIC   \n",
              "2        Male NaN                         NaN               RUST CLASH   \n",
              "3        Male NaN                         NaN                 REDACTED   \n",
              "4      Female NaN                         NaN  CAROLINA BLIND CRAFTERS   \n",
              "...       ...  ..                         ...                      ...   \n",
              "31757    Male NaN                         NaN                      MIS   \n",
              "31758  Female NaN                         NaN              CASA BAROLO   \n",
              "31759  Female NaN                        They                     ESPN   \n",
              "31760    Male NaN                    Hispanic                  DEMATIC   \n",
              "31761    Male NaN                    Hispanic  HONEYWELL INTELLIGRATED   \n",
              "\n",
              "       Exchange.rate.to.USD      SalaryUSD Salary.Period Monthly.SalaryUSD  \n",
              "0                   1.00000  490000.000000        Annual      40833.333333  \n",
              "1                   1.28848  380293.058488        Annual      31691.088207  \n",
              "2                   1.00000  480000.000000        Annual      40000.000000  \n",
              "3                   1.00000  480000.000000        Annual      40000.000000  \n",
              "4                   1.00000  480000.000000        Annual      40000.000000  \n",
              "...                     ...            ...           ...               ...  \n",
              "31757              75.87400       0.092258       Monthly          0.092258  \n",
              "31758               4.39980       1.363698       Monthly          1.363698  \n",
              "31759               1.00000       1.000000        Annual          0.083333  \n",
              "31760               1.00000  110000.000000        Annual       9166.666667  \n",
              "31761               1.00000  104000.000000        Annual       8666.666667  \n",
              "\n",
              "[31762 rows x 28 columns]"
            ],
            "text/html": [
              "\n",
              "  <div id=\"df-7ab5256d-dae0-4c77-8072-54224f44fbea\">\n",
              "    <div class=\"colab-df-container\">\n",
              "      <div>\n",
              "<style scoped>\n",
              "    .dataframe tbody tr th:only-of-type {\n",
              "        vertical-align: middle;\n",
              "    }\n",
              "\n",
              "    .dataframe tbody tr th {\n",
              "        vertical-align: top;\n",
              "    }\n",
              "\n",
              "    .dataframe thead th {\n",
              "        text-align: right;\n",
              "    }\n",
              "</style>\n",
              "<table border=\"1\" class=\"dataframe\">\n",
              "  <thead>\n",
              "    <tr style=\"text-align: right;\">\n",
              "      <th></th>\n",
              "      <th>ID</th>\n",
              "      <th>Timestamp</th>\n",
              "      <th>Age.Range</th>\n",
              "      <th>Years.of.Experience</th>\n",
              "      <th>Industry</th>\n",
              "      <th>Job.Title</th>\n",
              "      <th>Company.Name</th>\n",
              "      <th>Education</th>\n",
              "      <th>Location</th>\n",
              "      <th>Country</th>\n",
              "      <th>...</th>\n",
              "      <th>Open.To.Discuss.Salary</th>\n",
              "      <th>How.many.months.Maternity.or.Paternity.does.your.company.offer.</th>\n",
              "      <th>Gender</th>\n",
              "      <th>X</th>\n",
              "      <th>Diverse.Identity..Optional.</th>\n",
              "      <th>Description</th>\n",
              "      <th>Exchange.rate.to.USD</th>\n",
              "      <th>SalaryUSD</th>\n",
              "      <th>Salary.Period</th>\n",
              "      <th>Monthly.SalaryUSD</th>\n",
              "    </tr>\n",
              "  </thead>\n",
              "  <tbody>\n",
              "    <tr>\n",
              "      <th>0</th>\n",
              "      <td>1</td>\n",
              "      <td>12/8/2021 3:05</td>\n",
              "      <td>18-21</td>\n",
              "      <td>3.0</td>\n",
              "      <td>GAMING</td>\n",
              "      <td>STREAMER</td>\n",
              "      <td>TWITCH</td>\n",
              "      <td>None</td>\n",
              "      <td>LOS ANGELES CA</td>\n",
              "      <td>US</td>\n",
              "      <td>...</td>\n",
              "      <td>No</td>\n",
              "      <td>as much as i want</td>\n",
              "      <td>Male</td>\n",
              "      <td>NaN</td>\n",
              "      <td>NaN</td>\n",
              "      <td>TWITCH</td>\n",
              "      <td>1.00000</td>\n",
              "      <td>490000.000000</td>\n",
              "      <td>Annual</td>\n",
              "      <td>40833.333333</td>\n",
              "    </tr>\n",
              "    <tr>\n",
              "      <th>1</th>\n",
              "      <td>2</td>\n",
              "      <td>12/9/2021 15:49</td>\n",
              "      <td>30-33</td>\n",
              "      <td>5.0</td>\n",
              "      <td>HEALTHCARE</td>\n",
              "      <td>AESTHETIC NURSE PRACTITIONER/BUSINESS OWNER</td>\n",
              "      <td>AESTHETIC CLINIC</td>\n",
              "      <td>Master's Degree</td>\n",
              "      <td>WINNIPEG</td>\n",
              "      <td>CANADA</td>\n",
              "      <td>...</td>\n",
              "      <td>Yes</td>\n",
              "      <td>NaN</td>\n",
              "      <td>Male</td>\n",
              "      <td>NaN</td>\n",
              "      <td>NaN</td>\n",
              "      <td>AESTHETIC CLINIC</td>\n",
              "      <td>1.28848</td>\n",
              "      <td>380293.058488</td>\n",
              "      <td>Annual</td>\n",
              "      <td>31691.088207</td>\n",
              "    </tr>\n",
              "    <tr>\n",
              "      <th>2</th>\n",
              "      <td>3</td>\n",
              "      <td>12/8/2021 2:16</td>\n",
              "      <td>18-21</td>\n",
              "      <td>1.0</td>\n",
              "      <td>ONLINE ARCADE</td>\n",
              "      <td>OWNER</td>\n",
              "      <td>RUST CLASH</td>\n",
              "      <td>High School/GED</td>\n",
              "      <td>SAN DIEGO</td>\n",
              "      <td>US</td>\n",
              "      <td>...</td>\n",
              "      <td>Yes</td>\n",
              "      <td>NaN</td>\n",
              "      <td>Male</td>\n",
              "      <td>NaN</td>\n",
              "      <td>NaN</td>\n",
              "      <td>RUST CLASH</td>\n",
              "      <td>1.00000</td>\n",
              "      <td>480000.000000</td>\n",
              "      <td>Annual</td>\n",
              "      <td>40000.000000</td>\n",
              "    </tr>\n",
              "    <tr>\n",
              "      <th>3</th>\n",
              "      <td>4</td>\n",
              "      <td>12/8/2021 5:15</td>\n",
              "      <td>18-21</td>\n",
              "      <td>2.0</td>\n",
              "      <td>CRYPTO</td>\n",
              "      <td>HEAD OF MARKETING</td>\n",
              "      <td>REDACTED</td>\n",
              "      <td>Some College</td>\n",
              "      <td>TAMPA, FL</td>\n",
              "      <td>US</td>\n",
              "      <td>...</td>\n",
              "      <td>Yes</td>\n",
              "      <td>Not sure</td>\n",
              "      <td>Male</td>\n",
              "      <td>NaN</td>\n",
              "      <td>NaN</td>\n",
              "      <td>REDACTED</td>\n",
              "      <td>1.00000</td>\n",
              "      <td>480000.000000</td>\n",
              "      <td>Annual</td>\n",
              "      <td>40000.000000</td>\n",
              "    </tr>\n",
              "    <tr>\n",
              "      <th>4</th>\n",
              "      <td>5</td>\n",
              "      <td>12/8/2021 14:16</td>\n",
              "      <td>34-37</td>\n",
              "      <td>13.0</td>\n",
              "      <td>WINDOW COVERINGS</td>\n",
              "      <td>OWNER</td>\n",
              "      <td>CAROLINA BLIND CRAFTERS</td>\n",
              "      <td>Bachelor's Degree</td>\n",
              "      <td>CHARLOTTE, NC</td>\n",
              "      <td>US</td>\n",
              "      <td>...</td>\n",
              "      <td>No</td>\n",
              "      <td>None</td>\n",
              "      <td>Female</td>\n",
              "      <td>NaN</td>\n",
              "      <td>NaN</td>\n",
              "      <td>CAROLINA BLIND CRAFTERS</td>\n",
              "      <td>1.00000</td>\n",
              "      <td>480000.000000</td>\n",
              "      <td>Annual</td>\n",
              "      <td>40000.000000</td>\n",
              "    </tr>\n",
              "    <tr>\n",
              "      <th>...</th>\n",
              "      <td>...</td>\n",
              "      <td>...</td>\n",
              "      <td>...</td>\n",
              "      <td>...</td>\n",
              "      <td>...</td>\n",
              "      <td>...</td>\n",
              "      <td>...</td>\n",
              "      <td>...</td>\n",
              "      <td>...</td>\n",
              "      <td>...</td>\n",
              "      <td>...</td>\n",
              "      <td>...</td>\n",
              "      <td>...</td>\n",
              "      <td>...</td>\n",
              "      <td>...</td>\n",
              "      <td>...</td>\n",
              "      <td>...</td>\n",
              "      <td>...</td>\n",
              "      <td>...</td>\n",
              "      <td>...</td>\n",
              "      <td>...</td>\n",
              "    </tr>\n",
              "    <tr>\n",
              "      <th>31757</th>\n",
              "      <td>31758</td>\n",
              "      <td>12/17/2021 1:49</td>\n",
              "      <td>30-33</td>\n",
              "      <td>5.0</td>\n",
              "      <td>ECOMMERCE</td>\n",
              "      <td>DESIGN MANAGER</td>\n",
              "      <td>MIS</td>\n",
              "      <td>Bachelor's Degree</td>\n",
              "      <td>MUMBAI</td>\n",
              "      <td>INDIA</td>\n",
              "      <td>...</td>\n",
              "      <td>No</td>\n",
              "      <td>NaN</td>\n",
              "      <td>Male</td>\n",
              "      <td>NaN</td>\n",
              "      <td>NaN</td>\n",
              "      <td>MIS</td>\n",
              "      <td>75.87400</td>\n",
              "      <td>0.092258</td>\n",
              "      <td>Monthly</td>\n",
              "      <td>0.092258</td>\n",
              "    </tr>\n",
              "    <tr>\n",
              "      <th>31758</th>\n",
              "      <td>31759</td>\n",
              "      <td>12/23/2021 4:12</td>\n",
              "      <td>22-25</td>\n",
              "      <td>5.0</td>\n",
              "      <td>HOTEL/RESTAURANT</td>\n",
              "      <td>MANAGER/CHEF</td>\n",
              "      <td>CASA BAROLO</td>\n",
              "      <td>Bachelor's Degree</td>\n",
              "      <td>CLUJ-NAPOCA, CLUJ</td>\n",
              "      <td>ROMANIA</td>\n",
              "      <td>...</td>\n",
              "      <td>Yes</td>\n",
              "      <td>24</td>\n",
              "      <td>Female</td>\n",
              "      <td>NaN</td>\n",
              "      <td>NaN</td>\n",
              "      <td>CASA BAROLO</td>\n",
              "      <td>4.39980</td>\n",
              "      <td>1.363698</td>\n",
              "      <td>Monthly</td>\n",
              "      <td>1.363698</td>\n",
              "    </tr>\n",
              "    <tr>\n",
              "      <th>31759</th>\n",
              "      <td>31760</td>\n",
              "      <td>12/7/2021 19:40</td>\n",
              "      <td>58+</td>\n",
              "      <td>NaN</td>\n",
              "      <td>SPORTS</td>\n",
              "      <td>ANALYST</td>\n",
              "      <td>ESPN</td>\n",
              "      <td>None</td>\n",
              "      <td>SAN JOSE</td>\n",
              "      <td>US</td>\n",
              "      <td>...</td>\n",
              "      <td>No</td>\n",
              "      <td>0</td>\n",
              "      <td>Female</td>\n",
              "      <td>NaN</td>\n",
              "      <td>They</td>\n",
              "      <td>ESPN</td>\n",
              "      <td>1.00000</td>\n",
              "      <td>1.000000</td>\n",
              "      <td>Annual</td>\n",
              "      <td>0.083333</td>\n",
              "    </tr>\n",
              "    <tr>\n",
              "      <th>31760</th>\n",
              "      <td>32569</td>\n",
              "      <td>1/7/2022 12:40</td>\n",
              "      <td>26-29</td>\n",
              "      <td>4.0</td>\n",
              "      <td>MATERIAL HANDLING</td>\n",
              "      <td>SOLUTIONS CONSULTANT</td>\n",
              "      <td>DEMATIC</td>\n",
              "      <td>Bachelor's Degree</td>\n",
              "      <td>GRAND RAPIDS, MI</td>\n",
              "      <td>US</td>\n",
              "      <td>...</td>\n",
              "      <td>Yes</td>\n",
              "      <td>NaN</td>\n",
              "      <td>Male</td>\n",
              "      <td>NaN</td>\n",
              "      <td>Hispanic</td>\n",
              "      <td>DEMATIC</td>\n",
              "      <td>1.00000</td>\n",
              "      <td>110000.000000</td>\n",
              "      <td>Annual</td>\n",
              "      <td>9166.666667</td>\n",
              "    </tr>\n",
              "    <tr>\n",
              "      <th>31761</th>\n",
              "      <td>32570</td>\n",
              "      <td>1/7/2022 12:41</td>\n",
              "      <td>22-25</td>\n",
              "      <td>3.0</td>\n",
              "      <td>MATERIAL HANDLING</td>\n",
              "      <td>ENGINEERING SUPERVISOR</td>\n",
              "      <td>HONEYWELL</td>\n",
              "      <td>Bachelor's Degree</td>\n",
              "      <td>MASON, OH</td>\n",
              "      <td>US</td>\n",
              "      <td>...</td>\n",
              "      <td>Yes</td>\n",
              "      <td>NaN</td>\n",
              "      <td>Male</td>\n",
              "      <td>NaN</td>\n",
              "      <td>Hispanic</td>\n",
              "      <td>HONEYWELL INTELLIGRATED</td>\n",
              "      <td>1.00000</td>\n",
              "      <td>104000.000000</td>\n",
              "      <td>Annual</td>\n",
              "      <td>8666.666667</td>\n",
              "    </tr>\n",
              "  </tbody>\n",
              "</table>\n",
              "<p>31762 rows × 28 columns</p>\n",
              "</div>\n",
              "      <button class=\"colab-df-convert\" onclick=\"convertToInteractive('df-7ab5256d-dae0-4c77-8072-54224f44fbea')\"\n",
              "              title=\"Convert this dataframe to an interactive table.\"\n",
              "              style=\"display:none;\">\n",
              "        \n",
              "  <svg xmlns=\"http://www.w3.org/2000/svg\" height=\"24px\"viewBox=\"0 0 24 24\"\n",
              "       width=\"24px\">\n",
              "    <path d=\"M0 0h24v24H0V0z\" fill=\"none\"/>\n",
              "    <path d=\"M18.56 5.44l.94 2.06.94-2.06 2.06-.94-2.06-.94-.94-2.06-.94 2.06-2.06.94zm-11 1L8.5 8.5l.94-2.06 2.06-.94-2.06-.94L8.5 2.5l-.94 2.06-2.06.94zm10 10l.94 2.06.94-2.06 2.06-.94-2.06-.94-.94-2.06-.94 2.06-2.06.94z\"/><path d=\"M17.41 7.96l-1.37-1.37c-.4-.4-.92-.59-1.43-.59-.52 0-1.04.2-1.43.59L10.3 9.45l-7.72 7.72c-.78.78-.78 2.05 0 2.83L4 21.41c.39.39.9.59 1.41.59.51 0 1.02-.2 1.41-.59l7.78-7.78 2.81-2.81c.8-.78.8-2.07 0-2.86zM5.41 20L4 18.59l7.72-7.72 1.47 1.35L5.41 20z\"/>\n",
              "  </svg>\n",
              "      </button>\n",
              "      \n",
              "  <style>\n",
              "    .colab-df-container {\n",
              "      display:flex;\n",
              "      flex-wrap:wrap;\n",
              "      gap: 12px;\n",
              "    }\n",
              "\n",
              "    .colab-df-convert {\n",
              "      background-color: #E8F0FE;\n",
              "      border: none;\n",
              "      border-radius: 50%;\n",
              "      cursor: pointer;\n",
              "      display: none;\n",
              "      fill: #1967D2;\n",
              "      height: 32px;\n",
              "      padding: 0 0 0 0;\n",
              "      width: 32px;\n",
              "    }\n",
              "\n",
              "    .colab-df-convert:hover {\n",
              "      background-color: #E2EBFA;\n",
              "      box-shadow: 0px 1px 2px rgba(60, 64, 67, 0.3), 0px 1px 3px 1px rgba(60, 64, 67, 0.15);\n",
              "      fill: #174EA6;\n",
              "    }\n",
              "\n",
              "    [theme=dark] .colab-df-convert {\n",
              "      background-color: #3B4455;\n",
              "      fill: #D2E3FC;\n",
              "    }\n",
              "\n",
              "    [theme=dark] .colab-df-convert:hover {\n",
              "      background-color: #434B5C;\n",
              "      box-shadow: 0px 1px 3px 1px rgba(0, 0, 0, 0.15);\n",
              "      filter: drop-shadow(0px 1px 2px rgba(0, 0, 0, 0.3));\n",
              "      fill: #FFFFFF;\n",
              "    }\n",
              "  </style>\n",
              "\n",
              "      <script>\n",
              "        const buttonEl =\n",
              "          document.querySelector('#df-7ab5256d-dae0-4c77-8072-54224f44fbea button.colab-df-convert');\n",
              "        buttonEl.style.display =\n",
              "          google.colab.kernel.accessAllowed ? 'block' : 'none';\n",
              "\n",
              "        async function convertToInteractive(key) {\n",
              "          const element = document.querySelector('#df-7ab5256d-dae0-4c77-8072-54224f44fbea');\n",
              "          const dataTable =\n",
              "            await google.colab.kernel.invokeFunction('convertToInteractive',\n",
              "                                                     [key], {});\n",
              "          if (!dataTable) return;\n",
              "\n",
              "          const docLinkHtml = 'Like what you see? Visit the ' +\n",
              "            '<a target=\"_blank\" href=https://colab.research.google.com/notebooks/data_table.ipynb>data table notebook</a>'\n",
              "            + ' to learn more about interactive tables.';\n",
              "          element.innerHTML = '';\n",
              "          dataTable['output_type'] = 'display_data';\n",
              "          await google.colab.output.renderOutput(dataTable, element);\n",
              "          const docLink = document.createElement('div');\n",
              "          docLink.innerHTML = docLinkHtml;\n",
              "          element.appendChild(docLink);\n",
              "        }\n",
              "      </script>\n",
              "    </div>\n",
              "  </div>\n",
              "  "
            ]
          },
          "metadata": {},
          "execution_count": 162
        }
      ],
      "source": [
        "url = 'https://raw.githubusercontent.com/CarlosARossi/dataScienceCoder/main/Datasets/Salary_Data_2022_REV15_USD_Months.csv'\n",
        "salaries = pd.read_csv(url)\n",
        "salaries"
      ]
    },
    {
      "cell_type": "markdown",
      "metadata": {
        "id": "YNHIKePaqeC9"
      },
      "source": [
        "### 2. Análisis inicial"
      ]
    },
    {
      "cell_type": "code",
      "execution_count": 163,
      "metadata": {
        "colab": {
          "base_uri": "https://localhost:8080/"
        },
        "id": "gdnujm-WfKaH",
        "outputId": "ff4a1241-95bc-4da9-aacf-07a3f7f325fb"
      },
      "outputs": [
        {
          "output_type": "stream",
          "name": "stdout",
          "text": [
            "<class 'pandas.core.frame.DataFrame'>\n",
            "RangeIndex: 31762 entries, 0 to 31761\n",
            "Data columns (total 28 columns):\n",
            " #   Column                                                           Non-Null Count  Dtype  \n",
            "---  ------                                                           --------------  -----  \n",
            " 0   ID                                                               31762 non-null  int64  \n",
            " 1   Timestamp                                                        31762 non-null  object \n",
            " 2   Age.Range                                                        31742 non-null  object \n",
            " 3   Years.of.Experience                                              31260 non-null  float64\n",
            " 4   Industry                                                         31558 non-null  object \n",
            " 5   Job.Title                                                        31758 non-null  object \n",
            " 6   Company.Name                                                     31760 non-null  object \n",
            " 7   Education                                                        31762 non-null  object \n",
            " 8   Location                                                         31139 non-null  object \n",
            " 9   Country                                                          31762 non-null  object \n",
            " 10  Salary                                                           31762 non-null  int64  \n",
            " 11  Annual.Bonus                                                     31762 non-null  float64\n",
            " 12  Annual.Average.of.RSUs                                           31762 non-null  float64\n",
            " 13  Signing.Bonus                                                    31762 non-null  float64\n",
            " 14  Currency                                                         31762 non-null  object \n",
            " 15  Maternity.Paternity.Months                                       21770 non-null  float64\n",
            " 16  Sick.Days                                                        17394 non-null  float64\n",
            " 17  Office.Days                                                      17482 non-null  float64\n",
            " 18  Open.To.Discuss.Salary                                           30386 non-null  object \n",
            " 19  How.many.months.Maternity.or.Paternity.does.your.company.offer.  20031 non-null  object \n",
            " 20  Gender                                                           31762 non-null  object \n",
            " 21  X                                                                0 non-null      float64\n",
            " 22  Diverse.Identity..Optional.                                      6014 non-null   object \n",
            " 23  Description                                                      31760 non-null  object \n",
            " 24  Exchange.rate.to.USD                                             31762 non-null  float64\n",
            " 25  SalaryUSD                                                        31762 non-null  float64\n",
            " 26  Salary.Period                                                    31762 non-null  object \n",
            " 27  Monthly.SalaryUSD                                                31762 non-null  float64\n",
            "dtypes: float64(11), int64(2), object(15)\n",
            "memory usage: 6.8+ MB\n"
          ]
        }
      ],
      "source": [
        "salaries.info()"
      ]
    },
    {
      "cell_type": "markdown",
      "metadata": {
        "id": "m4wQc8VB7g0Y"
      },
      "source": [
        "Procedo a analizar del dataset la cantidad de instancias únicas de las caracteristicas consideradas como variables nominales:"
      ]
    },
    {
      "cell_type": "code",
      "execution_count": 164,
      "metadata": {
        "colab": {
          "base_uri": "https://localhost:8080/"
        },
        "id": "gw3vndan7mWS",
        "outputId": "710024d9-a8d7-4677-a7e6-48e6f02d0ac8"
      },
      "outputs": [
        {
          "output_type": "stream",
          "name": "stdout",
          "text": [
            "Cantidad de Generos: 3\n",
            "Cantidad de Paises: 55\n",
            "Cantidad de Rangos de edad: 12\n",
            "Cantidad de Industrias: 5618\n",
            "Cantidad de Puestos de trabajo: 12592\n"
          ]
        }
      ],
      "source": [
        "# Contar la cantidad de instancias únicas de las caracteristicas considerads como variables nominales\n",
        "\n",
        "print(\"Cantidad de Generos:\", len(salaries['Gender'].unique()))\n",
        "print(\"Cantidad de Paises:\", len(salaries['Country'].unique()))\n",
        "print(\"Cantidad de Rangos de edad:\", len(salaries['Age.Range'].unique()))\n",
        "print(\"Cantidad de Industrias:\", len(salaries['Industry'].unique()))\n",
        "print(\"Cantidad de Puestos de trabajo:\", len(salaries['Job.Title'].unique()))\n"
      ]
    },
    {
      "cell_type": "markdown",
      "metadata": {
        "id": "w10vddJigAbJ"
      },
      "source": [
        "Debido a la alta cantidad de instancias únicas que tienen las variables nominales elegidas, principalmente **Industry** y **Job.Title**, puedo encontrarme con problemas de alta cardinalidad. Para poder evitar esto, procederé a aplicar una técnica de reducción manual basada en la Ley de Pareto."
      ]
    },
    {
      "cell_type": "markdown",
      "metadata": {
        "id": "8wVsuv7Qpbkq"
      },
      "source": [
        "### 3. Reducción de Instancias\n",
        "\n"
      ]
    },
    {
      "cell_type": "code",
      "execution_count": 165,
      "metadata": {
        "id": "Dn4KHoH7TGNw",
        "colab": {
          "base_uri": "https://localhost:8080/"
        },
        "outputId": "0d78f814-4406-4c9c-d756-24da7e270b11"
      },
      "outputs": [
        {
          "output_type": "stream",
          "name": "stdout",
          "text": [
            "<class 'pandas.core.frame.DataFrame'>\n",
            "RangeIndex: 31762 entries, 0 to 31761\n",
            "Data columns (total 9 columns):\n",
            " #   Column               Non-Null Count  Dtype  \n",
            "---  ------               --------------  -----  \n",
            " 0   ID                   31762 non-null  int64  \n",
            " 1   Age.Range            31742 non-null  object \n",
            " 2   Years.of.Experience  31260 non-null  float64\n",
            " 3   Industry             31558 non-null  object \n",
            " 4   Job.Title            31758 non-null  object \n",
            " 5   Education            31762 non-null  object \n",
            " 6   Country              31762 non-null  object \n",
            " 7   Gender               31762 non-null  object \n",
            " 8   Monthly.SalaryUSD    31762 non-null  float64\n",
            "dtypes: float64(2), int64(1), object(6)\n",
            "memory usage: 2.2+ MB\n"
          ]
        }
      ],
      "source": [
        "# Crear una copia del dataset original\n",
        "salaries_reduced = salaries.copy()\n",
        "\n",
        "# Elimino las columnas que no me interesan\n",
        "columns_to_keep = ['ID', 'Age.Range', 'Years.of.Experience', 'Industry', 'Job.Title', 'Education', 'Country', 'Gender', 'Monthly.SalaryUSD']\n",
        "salaries_reduced = salaries_reduced[columns_to_keep]\n",
        "salaries_reduced.info()"
      ]
    },
    {
      "cell_type": "markdown",
      "metadata": {
        "id": "chPiXUvLXmLk"
      },
      "source": [
        "#### 3.1. Rango de edades [Age.Range]"
      ]
    },
    {
      "cell_type": "markdown",
      "metadata": {
        "id": "7NAzgfw4ZvvJ"
      },
      "source": [
        "Verifico que no haya quedado ninguna instancia con NaN"
      ]
    },
    {
      "cell_type": "code",
      "execution_count": 166,
      "metadata": {
        "colab": {
          "base_uri": "https://localhost:8080/"
        },
        "id": "9DyEdsc8Xqmy",
        "outputId": "57fd4e17-76c6-47ef-a6f1-834f7d3ecf7c"
      },
      "outputs": [
        {
          "output_type": "stream",
          "name": "stdout",
          "text": [
            "Cantidad de NaN en la columna 'Age.Range': 20\n"
          ]
        }
      ],
      "source": [
        "# Contar la cantidad de NaN en la columna seleccionada\n",
        "nan_count = salaries_reduced['Age.Range'].isna().sum()\n",
        "\n",
        "# Imprimir el resultado\n",
        "print(\"Cantidad de NaN en la columna '{}': {}\".format('Age.Range', nan_count))"
      ]
    },
    {
      "cell_type": "code",
      "execution_count": 167,
      "metadata": {
        "colab": {
          "base_uri": "https://localhost:8080/"
        },
        "id": "UVCQx9HwZ7nQ",
        "outputId": "f6b5d726-024c-43d2-e504-1b21194c2099"
      },
      "outputs": [
        {
          "output_type": "stream",
          "name": "stdout",
          "text": [
            "Cantidad de NaN en la columna 'Age.Range': 0\n"
          ]
        }
      ],
      "source": [
        "# Reemplazar los NaN por 'OTHERS'\n",
        "salaries_reduced['Age.Range'].fillna('OTHERS', inplace=True)\n",
        "\n",
        "# Verifico el resultado\n",
        "nan_count = salaries_reduced['Age.Range'].isna().sum()\n",
        "print(\"Cantidad de NaN en la columna '{}': {}\".format('Age.Range', nan_count))"
      ]
    },
    {
      "cell_type": "markdown",
      "metadata": {
        "id": "R_ngqvGeKKrS"
      },
      "source": [
        "#### 3.2. Años de experiencia [Years.of.Experience]"
      ]
    },
    {
      "cell_type": "markdown",
      "metadata": {
        "id": "143KK4h7KKse"
      },
      "source": [
        "Verifico que no haya quedado ninguna instancia con NaN"
      ]
    },
    {
      "cell_type": "code",
      "execution_count": 168,
      "metadata": {
        "colab": {
          "base_uri": "https://localhost:8080/"
        },
        "outputId": "f1fd9569-68bd-4442-b308-4f7c83e7525b",
        "id": "xne6KwctKKse"
      },
      "outputs": [
        {
          "output_type": "stream",
          "name": "stdout",
          "text": [
            "Cantidad de NaN en la columna 'Years.of.Experience': 502\n"
          ]
        }
      ],
      "source": [
        "# Contar la cantidad de NaN en la columna seleccionada\n",
        "nan_count = salaries_reduced['Years.of.Experience'].isna().sum()\n",
        "\n",
        "# Imprimir el resultado\n",
        "print(\"Cantidad de NaN en la columna '{}': {}\".format('Years.of.Experience', nan_count))"
      ]
    },
    {
      "cell_type": "code",
      "execution_count": 169,
      "metadata": {
        "colab": {
          "base_uri": "https://localhost:8080/"
        },
        "outputId": "b5f85ccf-4405-405c-ec07-de868c96c099",
        "id": "3UUj7N8eKKse"
      },
      "outputs": [
        {
          "output_type": "stream",
          "name": "stdout",
          "text": [
            "Cantidad de NaN en la columna 'Years.of.Experience': 0\n"
          ]
        }
      ],
      "source": [
        "# Reemplazar los NaN por el valor medio de 'Years.of.Experience'\n",
        "# Calcular el valor medio de la columna 'A'\n",
        "mean_value = salaries_reduced['Years.of.Experience'].mean()\n",
        "salaries_reduced['Years.of.Experience'].fillna(mean_value, inplace=True)\n",
        "\n",
        "# Verifico el resultado\n",
        "nan_count = salaries_reduced['Years.of.Experience'].isna().sum()\n",
        "print(\"Cantidad de NaN en la columna '{}': {}\".format('Years.of.Experience', nan_count))"
      ]
    },
    {
      "cell_type": "markdown",
      "metadata": {
        "id": "Z-riRvEOOXto"
      },
      "source": [
        "#### 3.3. Industrias [Industry]"
      ]
    },
    {
      "cell_type": "code",
      "execution_count": 170,
      "metadata": {
        "id": "h-EyF5hbjmgB"
      },
      "outputs": [],
      "source": [
        "# Calcular la frecuencia de las categorías en Industry\n",
        "industry_counts = salaries_reduced['Industry'].value_counts()"
      ]
    },
    {
      "cell_type": "code",
      "execution_count": 171,
      "metadata": {
        "id": "rYIR-ZbjmvDm"
      },
      "outputs": [],
      "source": [
        "# Calcular el porcentaje acumulado\n",
        "industry_cumsum = industry_counts.cumsum() / industry_counts.sum()"
      ]
    },
    {
      "cell_type": "code",
      "execution_count": 172,
      "metadata": {
        "colab": {
          "base_uri": "https://localhost:8080/"
        },
        "id": "sB75bCSJm0OE",
        "outputId": "2e6f5fc8-4e63-473b-e1ec-b4624c3cc3bf"
      },
      "outputs": [
        {
          "output_type": "stream",
          "name": "stdout",
          "text": [
            "OTHERS                15653\n",
            "TECH                   3354\n",
            "HEALTHCARE             1628\n",
            "FINANCE                1087\n",
            "EDUCATION               845\n",
            "CONSULTING              740\n",
            "RETAIL                  730\n",
            "MARKETING               703\n",
            "ACCOUNTING              634\n",
            "INSURANCE               571\n",
            "BANKING                 556\n",
            "ADVERTISING             377\n",
            "FINANCIAL SERVICES      288\n",
            "LEGAL                   285\n",
            "HIGHER EDUCATION        282\n",
            "GOVERNMENT              275\n",
            "HEALTH CARE             256\n",
            "SALES                   237\n",
            "REAL ESTATE             231\n",
            "CONSTRUCTION            213\n",
            "HOSPTECHALTECHY         208\n",
            "MANUFACTURING           207\n",
            "ENGINEERING             207\n",
            "MEDIA                   203\n",
            "AUTOMOTIVE              201\n",
            "LAW                     194\n",
            "FINTECH                 177\n",
            "ENTERTAINMENT           167\n",
            "MEDICAL                 163\n",
            "PUBLIC ACCOUNTING       162\n",
            "BIOTECH                 155\n",
            "HUMAN RESOURCES         153\n",
            "AEROSPACE               149\n",
            "FASHION                 138\n",
            "SOCIAL WORK             129\n",
            "Name: Industry, dtype: int64\n",
            "Cantidad de Industrias: 36\n"
          ]
        }
      ],
      "source": [
        "# Calcular el umbral para agrupar las categorías menos frecuentes\n",
        "threshold = industry_cumsum[industry_cumsum > 0.5].index[0]\n",
        "\n",
        "# Agrupar las categorías menos frecuentes en 'others'\n",
        "salaries_reduced.loc[salaries_reduced['Industry'].isin(industry_counts[industry_counts < industry_counts[threshold]].index), 'Industry'] = 'OTHERS'\n",
        "\n",
        "# Verificar los resultados\n",
        "print(salaries_reduced['Industry'].value_counts())\n",
        "\n",
        "print(\"Cantidad de Industrias:\", len(salaries_reduced['Industry'].unique()))"
      ]
    },
    {
      "cell_type": "markdown",
      "metadata": {
        "id": "mBekDIJEYcBz"
      },
      "source": [
        "Verifico que no haya quedado ninguna instancia con NaN"
      ]
    },
    {
      "cell_type": "code",
      "execution_count": 173,
      "metadata": {
        "colab": {
          "base_uri": "https://localhost:8080/"
        },
        "id": "AnzlgAURYXJK",
        "outputId": "2dc1c25e-c5c7-4e1a-9adf-475859dd2c4f"
      },
      "outputs": [
        {
          "output_type": "stream",
          "name": "stdout",
          "text": [
            "Cantidad de NaN en la columna 'Industry': 204\n"
          ]
        }
      ],
      "source": [
        "# Contar la cantidad de NaN en la columna seleccionada\n",
        "nan_count = salaries_reduced['Industry'].isna().sum()\n",
        "\n",
        "# Imprimir el resultado\n",
        "print(\"Cantidad de NaN en la columna '{}': {}\".format('Industry', nan_count))"
      ]
    },
    {
      "cell_type": "code",
      "execution_count": 174,
      "metadata": {
        "colab": {
          "base_uri": "https://localhost:8080/"
        },
        "id": "dEYxPGn-Y3m9",
        "outputId": "f87fba1f-10fb-440e-ae6a-715c217d8889"
      },
      "outputs": [
        {
          "output_type": "stream",
          "name": "stdout",
          "text": [
            "Cantidad de NaN en la columna 'Industry': 0\n"
          ]
        }
      ],
      "source": [
        "# Reemplazar los NaN por 'OTHERS'\n",
        "salaries_reduced['Industry'].fillna('OTHERS', inplace=True)\n",
        "\n",
        "# Verifico el resultado\n",
        "nan_count = salaries_reduced['Industry'].isna().sum()\n",
        "print(\"Cantidad de NaN en la columna '{}': {}\".format('Industry', nan_count))"
      ]
    },
    {
      "cell_type": "markdown",
      "metadata": {
        "id": "iJu7uwY9q131"
      },
      "source": [
        "#### 3.4. Puestos de Trabajo [Job.Title]"
      ]
    },
    {
      "cell_type": "code",
      "execution_count": 175,
      "metadata": {
        "id": "ee0RvAYQq132"
      },
      "outputs": [],
      "source": [
        "# Calcular la frecuencia de las categorías en Job.Title\n",
        "job_title_counts = salaries_reduced['Job.Title'].value_counts()\n"
      ]
    },
    {
      "cell_type": "code",
      "execution_count": 176,
      "metadata": {
        "id": "buvKH2_7q132"
      },
      "outputs": [],
      "source": [
        "# Calcular el porcentaje acumulado\n",
        "job_title_cumsum = job_title_counts.cumsum() / job_title_counts.sum()"
      ]
    },
    {
      "cell_type": "code",
      "execution_count": 177,
      "metadata": {
        "colab": {
          "base_uri": "https://localhost:8080/"
        },
        "id": "mO6h_QIsq132",
        "outputId": "f37b4927-90e7-41e1-bf20-69676f94a1ca"
      },
      "outputs": [
        {
          "output_type": "stream",
          "name": "stdout",
          "text": [
            "OTHERS                                 15315\n",
            "SOFTWARE ENGINEER                        451\n",
            "ANALYST                                  426\n",
            "PROJECT MANAGER                          377\n",
            "ASSOCIATE                                306\n",
            "                                       ...  \n",
            "CONTENT SPECIALIST                         6\n",
            "MANAGEMENT TRAINEE                         6\n",
            "MARKETING COMMUNICATIONS SPECIALIST        6\n",
            "DIGITAL PRODUCER                           6\n",
            "GRADUATE ASSISTANT                         6\n",
            "Name: Job.Title, Length: 697, dtype: int64\n",
            "Cantidad de Puestos de trabajo: 698\n"
          ]
        }
      ],
      "source": [
        "# Calcular el umbral para agrupar las categorías menos frecuentes\n",
        "threshold = job_title_cumsum[job_title_cumsum > 0.5].index[0]\n",
        "\n",
        "# Agrupar las categorías menos frecuentes en 'others'\n",
        "salaries_reduced.loc[salaries_reduced['Job.Title'].isin(job_title_counts[job_title_counts < job_title_counts[threshold]].index), 'Job.Title'] = 'OTHERS'\n",
        "\n",
        "# Verificar los resultados\n",
        "print(salaries_reduced['Job.Title'].value_counts())\n",
        "print(\"Cantidad de Puestos de trabajo:\", len(salaries_reduced['Job.Title'].unique()))"
      ]
    },
    {
      "cell_type": "markdown",
      "metadata": {
        "id": "rI9Ud6E0ZWai"
      },
      "source": [
        "Verifico que no haya quedado ninguna instancia con NaN"
      ]
    },
    {
      "cell_type": "code",
      "execution_count": 178,
      "metadata": {
        "colab": {
          "base_uri": "https://localhost:8080/"
        },
        "id": "QfY3g_eEZWaj",
        "outputId": "f53a99d7-0b69-4259-ed46-f25ad1f65717"
      },
      "outputs": [
        {
          "output_type": "stream",
          "name": "stdout",
          "text": [
            "Cantidad de NaN en la columna 'Job.Title': 4\n"
          ]
        }
      ],
      "source": [
        "# Contar la cantidad de NaN en la columna seleccionada\n",
        "nan_count = salaries_reduced['Job.Title'].isna().sum()\n",
        "\n",
        "# Imprimir el resultado\n",
        "print(\"Cantidad de NaN en la columna '{}': {}\".format('Job.Title', nan_count))"
      ]
    },
    {
      "cell_type": "code",
      "execution_count": 179,
      "metadata": {
        "colab": {
          "base_uri": "https://localhost:8080/"
        },
        "id": "1p4_AIQcZWaj",
        "outputId": "90a154f1-83c7-4e59-e690-fddef63e40e2"
      },
      "outputs": [
        {
          "output_type": "stream",
          "name": "stdout",
          "text": [
            "Cantidad de NaN en la columna 'Job.Title': 0\n"
          ]
        }
      ],
      "source": [
        "# Reemplazar los NaN por 'OTHERS'\n",
        "salaries_reduced['Job.Title'].fillna('OTHERS', inplace=True)\n",
        "\n",
        "# Verifico el resultado\n",
        "nan_count = salaries_reduced['Job.Title'].isna().sum()\n",
        "print(\"Cantidad de NaN en la columna '{}': {}\".format('Job.Title', nan_count))"
      ]
    },
    {
      "cell_type": "markdown",
      "metadata": {
        "id": "GjCbNAxBOoUt"
      },
      "source": [
        "#### 3.5. País [Country]"
      ]
    },
    {
      "cell_type": "code",
      "execution_count": 180,
      "metadata": {
        "id": "WcJGFtErOoU5"
      },
      "outputs": [],
      "source": [
        "# Calcular la frecuencia de las categorías en Country\n",
        "country_counts = salaries_reduced['Country'].value_counts()"
      ]
    },
    {
      "cell_type": "code",
      "execution_count": 181,
      "metadata": {
        "id": "xAZAUZTDOoU5"
      },
      "outputs": [],
      "source": [
        "# Calcular el porcentaje acumulado\n",
        "country_cumsum = country_counts.cumsum() / country_counts.sum()"
      ]
    },
    {
      "cell_type": "code",
      "execution_count": 182,
      "metadata": {
        "colab": {
          "base_uri": "https://localhost:8080/"
        },
        "id": "tmpfeOYzOoU6",
        "outputId": "808abf29-789c-4049-b178-466ccb105a51"
      },
      "outputs": [
        {
          "output_type": "stream",
          "name": "stdout",
          "text": [
            "US           29325\n",
            "CANADA        1563\n",
            "UK             591\n",
            "OTHERS         145\n",
            "GERMANY         59\n",
            "SINGAPORE       33\n",
            "AUSTRALIA       24\n",
            "FRANCE          22\n",
            "Name: Country, dtype: int64\n",
            "Cantidad de Países: 8\n"
          ]
        }
      ],
      "source": [
        "# Calcular el umbral para agrupar las categorías menos frecuentes\n",
        "threshold = country_cumsum[country_cumsum > 0.995].index[0]\n",
        "\n",
        "# Agrupar las categorías menos frecuentes en 'others'\n",
        "salaries_reduced.loc[salaries_reduced['Country'].isin(country_counts[country_counts < country_counts[threshold]].index), 'Country'] = 'OTHERS'\n",
        "\n",
        "# Verificar los resultados\n",
        "print(salaries_reduced['Country'].value_counts())\n",
        "print(\"Cantidad de Países:\", len(salaries_reduced['Country'].unique()))"
      ]
    },
    {
      "cell_type": "markdown",
      "metadata": {
        "id": "fcJLlod4ZkLm"
      },
      "source": [
        "Verifico que no haya quedado ninguna instancia con NaN"
      ]
    },
    {
      "cell_type": "code",
      "execution_count": 183,
      "metadata": {
        "colab": {
          "base_uri": "https://localhost:8080/"
        },
        "id": "mNa_ku9zZkLm",
        "outputId": "2b2f7ec1-c8bb-4fcc-eef4-bae244a9b4f9"
      },
      "outputs": [
        {
          "output_type": "stream",
          "name": "stdout",
          "text": [
            "Cantidad de NaN en la columna 'Country': 0\n"
          ]
        }
      ],
      "source": [
        "# Contar la cantidad de NaN en la columna seleccionada\n",
        "nan_count = salaries_reduced['Country'].isna().sum()\n",
        "\n",
        "# Imprimir el resultado\n",
        "print(\"Cantidad de NaN en la columna '{}': {}\".format('Country', nan_count))"
      ]
    },
    {
      "cell_type": "markdown",
      "metadata": {
        "id": "_jUCvjK8TsMm"
      },
      "source": [
        "#### 3.5. Conclusión"
      ]
    },
    {
      "cell_type": "code",
      "execution_count": 184,
      "metadata": {
        "colab": {
          "base_uri": "https://localhost:8080/"
        },
        "id": "40kDxTWhQfR5",
        "outputId": "1f1af2f9-fd57-4296-906d-47e476429727"
      },
      "outputs": [
        {
          "output_type": "stream",
          "name": "stdout",
          "text": [
            "Cantidad de Rango de Edades Antes: 12\n",
            "Cantidad de Rango de Edades Ahora: 12\n",
            "----------------------------------------\n",
            "Cantidad de Años de Experiencia Antes: 20\n",
            "Cantidad de Años de Experiencia Ahora: 20\n",
            "----------------------------------------\n",
            "Cantidad de Industrias Antes: 5618\n",
            "Cantidad de Industrias Ahora: 35\n",
            "----------------------------------------\n",
            "Cantidad de Puestos de trabajo Antes: 12592\n",
            "Cantidad de Puestos de trabajo Ahora: 697\n",
            "----------------------------------------\n",
            "Cantidad de Paises Antes: 55\n",
            "Cantidad de Paises Ahora: 8\n",
            "----------------------------------------\n",
            "Cantidad de Generos Antes: 3\n",
            "Cantidad de Generos Ahora: 3\n"
          ]
        }
      ],
      "source": [
        "# Contar la cantidad de instancias únicas de las caracteristicas considerads como variables nominales\n",
        "\n",
        "print(\"Cantidad de Rango de Edades Antes:\", len(salaries['Age.Range'].unique()))\n",
        "print(\"Cantidad de Rango de Edades Ahora:\", len(salaries_reduced['Age.Range'].unique()))\n",
        "print(\"----------------------------------------\")\n",
        "print(\"Cantidad de Años de Experiencia Antes:\", len(salaries['Years.of.Experience'].unique()))\n",
        "print(\"Cantidad de Años de Experiencia Ahora:\", len(salaries_reduced['Years.of.Experience'].unique()))\n",
        "print(\"----------------------------------------\")\n",
        "print(\"Cantidad de Industrias Antes:\", len(salaries['Industry'].unique()))\n",
        "print(\"Cantidad de Industrias Ahora:\", len(salaries_reduced['Industry'].unique()))\n",
        "print(\"----------------------------------------\")\n",
        "print(\"Cantidad de Puestos de trabajo Antes:\", len(salaries['Job.Title'].unique()))\n",
        "print(\"Cantidad de Puestos de trabajo Ahora:\", len(salaries_reduced['Job.Title'].unique()))\n",
        "print(\"----------------------------------------\")\n",
        "print(\"Cantidad de Paises Antes:\", len(salaries['Country'].unique()))\n",
        "print(\"Cantidad de Paises Ahora:\", len(salaries_reduced['Country'].unique()))\n",
        "print(\"----------------------------------------\")\n",
        "print(\"Cantidad de Generos Antes:\", len(salaries['Gender'].unique()))\n",
        "print(\"Cantidad de Generos Ahora:\", len(salaries_reduced['Gender'].unique()))"
      ]
    },
    {
      "cell_type": "markdown",
      "metadata": {
        "id": "Pq546NK8W-C0"
      },
      "source": [
        "### 4. Feature Engineering\n"
      ]
    },
    {
      "cell_type": "markdown",
      "metadata": {
        "id": "EsKygpO0sc5H"
      },
      "source": [
        "#### 4.1. One-Hot Encoding"
      ]
    },
    {
      "cell_type": "markdown",
      "metadata": {
        "id": "L3VDOQqCWbM1"
      },
      "source": [
        "Se aplicará One-Hot Encoding a las siguientes características:\n",
        "\n",
        "* Country\n",
        "* Age.Range\n",
        "* Industry\n",
        "* Job.Title\n",
        "* Gender\n",
        "\n",
        "Las cuales fueron elegidas debido a su naturaleza nominal y la cantidad moderada de instancias únicas en cada una de ellas. Esta técnica convierte las variables categóricas en columnas separadas con valores binarios. "
      ]
    },
    {
      "cell_type": "code",
      "execution_count": 185,
      "metadata": {
        "colab": {
          "base_uri": "https://localhost:8080/"
        },
        "id": "S_bzZz4yTVIh",
        "outputId": "835fa014-d2ff-4d1b-91ee-63d46ee35c67"
      },
      "outputs": [
        {
          "output_type": "stream",
          "name": "stdout",
          "text": [
            "<class 'pandas.core.frame.DataFrame'>\n",
            "RangeIndex: 31762 entries, 0 to 31761\n",
            "Columns: 759 entries, ID to Gender_Male\n",
            "dtypes: float64(2), int64(1), object(1), uint8(755)\n",
            "memory usage: 23.8+ MB\n"
          ]
        }
      ],
      "source": [
        "nominal_variables = ['Country', 'Age.Range', 'Industry', 'Job.Title', 'Gender']\n",
        "\n",
        "# Aplicar One-Hot Encoding\n",
        "salaries_one_hot = pd.get_dummies(salaries_reduced, columns=nominal_variables)\n",
        "\n",
        "# Verificar los resultados\n",
        "# print(salaries_encoded.head())\n",
        "salaries_one_hot.info()"
      ]
    },
    {
      "cell_type": "markdown",
      "metadata": {
        "id": "aQm5bPpYswvO"
      },
      "source": [
        "#### 4.2. Ordinal Encoding"
      ]
    },
    {
      "cell_type": "markdown",
      "metadata": {
        "id": "jeiEGL3xswvZ"
      },
      "source": [
        "Se aplicará Ordinal Encoding a la siguiente caracteristica:\n",
        "\n",
        "* Education  \n",
        "\n",
        "Se eligió este método porque la variable Education tiene un orden implícito, como por ejemplo \"High School\" < \"Bachelor's Degree\" < \"Master's Degree\", y el Ordinal Encoding captura esta jerarquía de manera adecuada."
      ]
    },
    {
      "cell_type": "code",
      "execution_count": 186,
      "metadata": {
        "colab": {
          "base_uri": "https://localhost:8080/"
        },
        "id": "-mEpnMRNswvZ",
        "outputId": "157f1d6c-9cf7-4c79-c244-bb3ba59bbab6"
      },
      "outputs": [
        {
          "output_type": "execute_result",
          "data": {
            "text/plain": [
              "array(['None', \"Master's Degree\", 'High School/GED', 'Some College',\n",
              "       \"Bachelor's Degree\", 'Doctorate Degree', 'Trade/Vocational',\n",
              "       \"Associate's Degree\"], dtype=object)"
            ]
          },
          "metadata": {},
          "execution_count": 186
        }
      ],
      "source": [
        "# Analiso cuales son las instancias unicas dentro de Education\n",
        "salaries_one_hot['Education'].unique()"
      ]
    },
    {
      "cell_type": "code",
      "execution_count": 187,
      "metadata": {
        "colab": {
          "base_uri": "https://localhost:8080/",
          "height": 0
        },
        "id": "-PuZaUKyxAfn",
        "outputId": "213e48f7-ade2-468c-aea5-176179899824"
      },
      "outputs": [
        {
          "output_type": "execute_result",
          "data": {
            "text/plain": [
              "          ID  Years.of.Experience  Education  Monthly.SalaryUSD  \\\n",
              "0          1             3.000000        0.0       40833.333333   \n",
              "1          2             5.000000        6.0       31691.088207   \n",
              "2          3             1.000000        1.0       40000.000000   \n",
              "3          4             2.000000        3.0       40000.000000   \n",
              "4          5            13.000000        5.0       40000.000000   \n",
              "...      ...                  ...        ...                ...   \n",
              "31757  31758             5.000000        5.0           0.092258   \n",
              "31758  31759             5.000000        5.0           1.363698   \n",
              "31759  31760             4.329431        0.0           0.083333   \n",
              "31760  32569             4.000000        5.0        9166.666667   \n",
              "31761  32570             3.000000        5.0        8666.666667   \n",
              "\n",
              "       Country_AUSTRALIA  Country_CANADA  Country_FRANCE  Country_GERMANY  \\\n",
              "0                      0               0               0                0   \n",
              "1                      0               1               0                0   \n",
              "2                      0               0               0                0   \n",
              "3                      0               0               0                0   \n",
              "4                      0               0               0                0   \n",
              "...                  ...             ...             ...              ...   \n",
              "31757                  0               0               0                0   \n",
              "31758                  0               0               0                0   \n",
              "31759                  0               0               0                0   \n",
              "31760                  0               0               0                0   \n",
              "31761                  0               0               0                0   \n",
              "\n",
              "       Country_OTHERS  Country_SINGAPORE  ...  Job.Title_VICE PRESIDENT  \\\n",
              "0                   0                  0  ...                         0   \n",
              "1                   0                  0  ...                         0   \n",
              "2                   0                  0  ...                         0   \n",
              "3                   0                  0  ...                         0   \n",
              "4                   0                  0  ...                         0   \n",
              "...               ...                ...  ...                       ...   \n",
              "31757               1                  0  ...                         0   \n",
              "31758               1                  0  ...                         0   \n",
              "31759               0                  0  ...                         0   \n",
              "31760               0                  0  ...                         0   \n",
              "31761               0                  0  ...                         0   \n",
              "\n",
              "       Job.Title_VIDEO EDITOR  Job.Title_VIDEO PRODUCER  \\\n",
              "0                           0                         0   \n",
              "1                           0                         0   \n",
              "2                           0                         0   \n",
              "3                           0                         0   \n",
              "4                           0                         0   \n",
              "...                       ...                       ...   \n",
              "31757                       0                         0   \n",
              "31758                       0                         0   \n",
              "31759                       0                         0   \n",
              "31760                       0                         0   \n",
              "31761                       0                         0   \n",
              "\n",
              "       Job.Title_VISUAL DESIGNER  Job.Title_VP  Job.Title_WAITRESS  \\\n",
              "0                              0             0                   0   \n",
              "1                              0             0                   0   \n",
              "2                              0             0                   0   \n",
              "3                              0             0                   0   \n",
              "4                              0             0                   0   \n",
              "...                          ...           ...                 ...   \n",
              "31757                          0             0                   0   \n",
              "31758                          0             0                   0   \n",
              "31759                          0             0                   0   \n",
              "31760                          0             0                   0   \n",
              "31761                          0             0                   0   \n",
              "\n",
              "       Job.Title_WEB DEVELOPER  Gender_Female  Gender_LGBTQ+  Gender_Male  \n",
              "0                            0              0              0            1  \n",
              "1                            0              0              0            1  \n",
              "2                            0              0              0            1  \n",
              "3                            0              0              0            1  \n",
              "4                            0              1              0            0  \n",
              "...                        ...            ...            ...          ...  \n",
              "31757                        0              0              0            1  \n",
              "31758                        0              1              0            0  \n",
              "31759                        0              1              0            0  \n",
              "31760                        0              0              0            1  \n",
              "31761                        0              0              0            1  \n",
              "\n",
              "[31762 rows x 759 columns]"
            ],
            "text/html": [
              "\n",
              "  <div id=\"df-70a77f1a-06e9-45c5-9806-c14f5d519c70\">\n",
              "    <div class=\"colab-df-container\">\n",
              "      <div>\n",
              "<style scoped>\n",
              "    .dataframe tbody tr th:only-of-type {\n",
              "        vertical-align: middle;\n",
              "    }\n",
              "\n",
              "    .dataframe tbody tr th {\n",
              "        vertical-align: top;\n",
              "    }\n",
              "\n",
              "    .dataframe thead th {\n",
              "        text-align: right;\n",
              "    }\n",
              "</style>\n",
              "<table border=\"1\" class=\"dataframe\">\n",
              "  <thead>\n",
              "    <tr style=\"text-align: right;\">\n",
              "      <th></th>\n",
              "      <th>ID</th>\n",
              "      <th>Years.of.Experience</th>\n",
              "      <th>Education</th>\n",
              "      <th>Monthly.SalaryUSD</th>\n",
              "      <th>Country_AUSTRALIA</th>\n",
              "      <th>Country_CANADA</th>\n",
              "      <th>Country_FRANCE</th>\n",
              "      <th>Country_GERMANY</th>\n",
              "      <th>Country_OTHERS</th>\n",
              "      <th>Country_SINGAPORE</th>\n",
              "      <th>...</th>\n",
              "      <th>Job.Title_VICE PRESIDENT</th>\n",
              "      <th>Job.Title_VIDEO EDITOR</th>\n",
              "      <th>Job.Title_VIDEO PRODUCER</th>\n",
              "      <th>Job.Title_VISUAL DESIGNER</th>\n",
              "      <th>Job.Title_VP</th>\n",
              "      <th>Job.Title_WAITRESS</th>\n",
              "      <th>Job.Title_WEB DEVELOPER</th>\n",
              "      <th>Gender_Female</th>\n",
              "      <th>Gender_LGBTQ+</th>\n",
              "      <th>Gender_Male</th>\n",
              "    </tr>\n",
              "  </thead>\n",
              "  <tbody>\n",
              "    <tr>\n",
              "      <th>0</th>\n",
              "      <td>1</td>\n",
              "      <td>3.000000</td>\n",
              "      <td>0.0</td>\n",
              "      <td>40833.333333</td>\n",
              "      <td>0</td>\n",
              "      <td>0</td>\n",
              "      <td>0</td>\n",
              "      <td>0</td>\n",
              "      <td>0</td>\n",
              "      <td>0</td>\n",
              "      <td>...</td>\n",
              "      <td>0</td>\n",
              "      <td>0</td>\n",
              "      <td>0</td>\n",
              "      <td>0</td>\n",
              "      <td>0</td>\n",
              "      <td>0</td>\n",
              "      <td>0</td>\n",
              "      <td>0</td>\n",
              "      <td>0</td>\n",
              "      <td>1</td>\n",
              "    </tr>\n",
              "    <tr>\n",
              "      <th>1</th>\n",
              "      <td>2</td>\n",
              "      <td>5.000000</td>\n",
              "      <td>6.0</td>\n",
              "      <td>31691.088207</td>\n",
              "      <td>0</td>\n",
              "      <td>1</td>\n",
              "      <td>0</td>\n",
              "      <td>0</td>\n",
              "      <td>0</td>\n",
              "      <td>0</td>\n",
              "      <td>...</td>\n",
              "      <td>0</td>\n",
              "      <td>0</td>\n",
              "      <td>0</td>\n",
              "      <td>0</td>\n",
              "      <td>0</td>\n",
              "      <td>0</td>\n",
              "      <td>0</td>\n",
              "      <td>0</td>\n",
              "      <td>0</td>\n",
              "      <td>1</td>\n",
              "    </tr>\n",
              "    <tr>\n",
              "      <th>2</th>\n",
              "      <td>3</td>\n",
              "      <td>1.000000</td>\n",
              "      <td>1.0</td>\n",
              "      <td>40000.000000</td>\n",
              "      <td>0</td>\n",
              "      <td>0</td>\n",
              "      <td>0</td>\n",
              "      <td>0</td>\n",
              "      <td>0</td>\n",
              "      <td>0</td>\n",
              "      <td>...</td>\n",
              "      <td>0</td>\n",
              "      <td>0</td>\n",
              "      <td>0</td>\n",
              "      <td>0</td>\n",
              "      <td>0</td>\n",
              "      <td>0</td>\n",
              "      <td>0</td>\n",
              "      <td>0</td>\n",
              "      <td>0</td>\n",
              "      <td>1</td>\n",
              "    </tr>\n",
              "    <tr>\n",
              "      <th>3</th>\n",
              "      <td>4</td>\n",
              "      <td>2.000000</td>\n",
              "      <td>3.0</td>\n",
              "      <td>40000.000000</td>\n",
              "      <td>0</td>\n",
              "      <td>0</td>\n",
              "      <td>0</td>\n",
              "      <td>0</td>\n",
              "      <td>0</td>\n",
              "      <td>0</td>\n",
              "      <td>...</td>\n",
              "      <td>0</td>\n",
              "      <td>0</td>\n",
              "      <td>0</td>\n",
              "      <td>0</td>\n",
              "      <td>0</td>\n",
              "      <td>0</td>\n",
              "      <td>0</td>\n",
              "      <td>0</td>\n",
              "      <td>0</td>\n",
              "      <td>1</td>\n",
              "    </tr>\n",
              "    <tr>\n",
              "      <th>4</th>\n",
              "      <td>5</td>\n",
              "      <td>13.000000</td>\n",
              "      <td>5.0</td>\n",
              "      <td>40000.000000</td>\n",
              "      <td>0</td>\n",
              "      <td>0</td>\n",
              "      <td>0</td>\n",
              "      <td>0</td>\n",
              "      <td>0</td>\n",
              "      <td>0</td>\n",
              "      <td>...</td>\n",
              "      <td>0</td>\n",
              "      <td>0</td>\n",
              "      <td>0</td>\n",
              "      <td>0</td>\n",
              "      <td>0</td>\n",
              "      <td>0</td>\n",
              "      <td>0</td>\n",
              "      <td>1</td>\n",
              "      <td>0</td>\n",
              "      <td>0</td>\n",
              "    </tr>\n",
              "    <tr>\n",
              "      <th>...</th>\n",
              "      <td>...</td>\n",
              "      <td>...</td>\n",
              "      <td>...</td>\n",
              "      <td>...</td>\n",
              "      <td>...</td>\n",
              "      <td>...</td>\n",
              "      <td>...</td>\n",
              "      <td>...</td>\n",
              "      <td>...</td>\n",
              "      <td>...</td>\n",
              "      <td>...</td>\n",
              "      <td>...</td>\n",
              "      <td>...</td>\n",
              "      <td>...</td>\n",
              "      <td>...</td>\n",
              "      <td>...</td>\n",
              "      <td>...</td>\n",
              "      <td>...</td>\n",
              "      <td>...</td>\n",
              "      <td>...</td>\n",
              "      <td>...</td>\n",
              "    </tr>\n",
              "    <tr>\n",
              "      <th>31757</th>\n",
              "      <td>31758</td>\n",
              "      <td>5.000000</td>\n",
              "      <td>5.0</td>\n",
              "      <td>0.092258</td>\n",
              "      <td>0</td>\n",
              "      <td>0</td>\n",
              "      <td>0</td>\n",
              "      <td>0</td>\n",
              "      <td>1</td>\n",
              "      <td>0</td>\n",
              "      <td>...</td>\n",
              "      <td>0</td>\n",
              "      <td>0</td>\n",
              "      <td>0</td>\n",
              "      <td>0</td>\n",
              "      <td>0</td>\n",
              "      <td>0</td>\n",
              "      <td>0</td>\n",
              "      <td>0</td>\n",
              "      <td>0</td>\n",
              "      <td>1</td>\n",
              "    </tr>\n",
              "    <tr>\n",
              "      <th>31758</th>\n",
              "      <td>31759</td>\n",
              "      <td>5.000000</td>\n",
              "      <td>5.0</td>\n",
              "      <td>1.363698</td>\n",
              "      <td>0</td>\n",
              "      <td>0</td>\n",
              "      <td>0</td>\n",
              "      <td>0</td>\n",
              "      <td>1</td>\n",
              "      <td>0</td>\n",
              "      <td>...</td>\n",
              "      <td>0</td>\n",
              "      <td>0</td>\n",
              "      <td>0</td>\n",
              "      <td>0</td>\n",
              "      <td>0</td>\n",
              "      <td>0</td>\n",
              "      <td>0</td>\n",
              "      <td>1</td>\n",
              "      <td>0</td>\n",
              "      <td>0</td>\n",
              "    </tr>\n",
              "    <tr>\n",
              "      <th>31759</th>\n",
              "      <td>31760</td>\n",
              "      <td>4.329431</td>\n",
              "      <td>0.0</td>\n",
              "      <td>0.083333</td>\n",
              "      <td>0</td>\n",
              "      <td>0</td>\n",
              "      <td>0</td>\n",
              "      <td>0</td>\n",
              "      <td>0</td>\n",
              "      <td>0</td>\n",
              "      <td>...</td>\n",
              "      <td>0</td>\n",
              "      <td>0</td>\n",
              "      <td>0</td>\n",
              "      <td>0</td>\n",
              "      <td>0</td>\n",
              "      <td>0</td>\n",
              "      <td>0</td>\n",
              "      <td>1</td>\n",
              "      <td>0</td>\n",
              "      <td>0</td>\n",
              "    </tr>\n",
              "    <tr>\n",
              "      <th>31760</th>\n",
              "      <td>32569</td>\n",
              "      <td>4.000000</td>\n",
              "      <td>5.0</td>\n",
              "      <td>9166.666667</td>\n",
              "      <td>0</td>\n",
              "      <td>0</td>\n",
              "      <td>0</td>\n",
              "      <td>0</td>\n",
              "      <td>0</td>\n",
              "      <td>0</td>\n",
              "      <td>...</td>\n",
              "      <td>0</td>\n",
              "      <td>0</td>\n",
              "      <td>0</td>\n",
              "      <td>0</td>\n",
              "      <td>0</td>\n",
              "      <td>0</td>\n",
              "      <td>0</td>\n",
              "      <td>0</td>\n",
              "      <td>0</td>\n",
              "      <td>1</td>\n",
              "    </tr>\n",
              "    <tr>\n",
              "      <th>31761</th>\n",
              "      <td>32570</td>\n",
              "      <td>3.000000</td>\n",
              "      <td>5.0</td>\n",
              "      <td>8666.666667</td>\n",
              "      <td>0</td>\n",
              "      <td>0</td>\n",
              "      <td>0</td>\n",
              "      <td>0</td>\n",
              "      <td>0</td>\n",
              "      <td>0</td>\n",
              "      <td>...</td>\n",
              "      <td>0</td>\n",
              "      <td>0</td>\n",
              "      <td>0</td>\n",
              "      <td>0</td>\n",
              "      <td>0</td>\n",
              "      <td>0</td>\n",
              "      <td>0</td>\n",
              "      <td>0</td>\n",
              "      <td>0</td>\n",
              "      <td>1</td>\n",
              "    </tr>\n",
              "  </tbody>\n",
              "</table>\n",
              "<p>31762 rows × 759 columns</p>\n",
              "</div>\n",
              "      <button class=\"colab-df-convert\" onclick=\"convertToInteractive('df-70a77f1a-06e9-45c5-9806-c14f5d519c70')\"\n",
              "              title=\"Convert this dataframe to an interactive table.\"\n",
              "              style=\"display:none;\">\n",
              "        \n",
              "  <svg xmlns=\"http://www.w3.org/2000/svg\" height=\"24px\"viewBox=\"0 0 24 24\"\n",
              "       width=\"24px\">\n",
              "    <path d=\"M0 0h24v24H0V0z\" fill=\"none\"/>\n",
              "    <path d=\"M18.56 5.44l.94 2.06.94-2.06 2.06-.94-2.06-.94-.94-2.06-.94 2.06-2.06.94zm-11 1L8.5 8.5l.94-2.06 2.06-.94-2.06-.94L8.5 2.5l-.94 2.06-2.06.94zm10 10l.94 2.06.94-2.06 2.06-.94-2.06-.94-.94-2.06-.94 2.06-2.06.94z\"/><path d=\"M17.41 7.96l-1.37-1.37c-.4-.4-.92-.59-1.43-.59-.52 0-1.04.2-1.43.59L10.3 9.45l-7.72 7.72c-.78.78-.78 2.05 0 2.83L4 21.41c.39.39.9.59 1.41.59.51 0 1.02-.2 1.41-.59l7.78-7.78 2.81-2.81c.8-.78.8-2.07 0-2.86zM5.41 20L4 18.59l7.72-7.72 1.47 1.35L5.41 20z\"/>\n",
              "  </svg>\n",
              "      </button>\n",
              "      \n",
              "  <style>\n",
              "    .colab-df-container {\n",
              "      display:flex;\n",
              "      flex-wrap:wrap;\n",
              "      gap: 12px;\n",
              "    }\n",
              "\n",
              "    .colab-df-convert {\n",
              "      background-color: #E8F0FE;\n",
              "      border: none;\n",
              "      border-radius: 50%;\n",
              "      cursor: pointer;\n",
              "      display: none;\n",
              "      fill: #1967D2;\n",
              "      height: 32px;\n",
              "      padding: 0 0 0 0;\n",
              "      width: 32px;\n",
              "    }\n",
              "\n",
              "    .colab-df-convert:hover {\n",
              "      background-color: #E2EBFA;\n",
              "      box-shadow: 0px 1px 2px rgba(60, 64, 67, 0.3), 0px 1px 3px 1px rgba(60, 64, 67, 0.15);\n",
              "      fill: #174EA6;\n",
              "    }\n",
              "\n",
              "    [theme=dark] .colab-df-convert {\n",
              "      background-color: #3B4455;\n",
              "      fill: #D2E3FC;\n",
              "    }\n",
              "\n",
              "    [theme=dark] .colab-df-convert:hover {\n",
              "      background-color: #434B5C;\n",
              "      box-shadow: 0px 1px 3px 1px rgba(0, 0, 0, 0.15);\n",
              "      filter: drop-shadow(0px 1px 2px rgba(0, 0, 0, 0.3));\n",
              "      fill: #FFFFFF;\n",
              "    }\n",
              "  </style>\n",
              "\n",
              "      <script>\n",
              "        const buttonEl =\n",
              "          document.querySelector('#df-70a77f1a-06e9-45c5-9806-c14f5d519c70 button.colab-df-convert');\n",
              "        buttonEl.style.display =\n",
              "          google.colab.kernel.accessAllowed ? 'block' : 'none';\n",
              "\n",
              "        async function convertToInteractive(key) {\n",
              "          const element = document.querySelector('#df-70a77f1a-06e9-45c5-9806-c14f5d519c70');\n",
              "          const dataTable =\n",
              "            await google.colab.kernel.invokeFunction('convertToInteractive',\n",
              "                                                     [key], {});\n",
              "          if (!dataTable) return;\n",
              "\n",
              "          const docLinkHtml = 'Like what you see? Visit the ' +\n",
              "            '<a target=\"_blank\" href=https://colab.research.google.com/notebooks/data_table.ipynb>data table notebook</a>'\n",
              "            + ' to learn more about interactive tables.';\n",
              "          element.innerHTML = '';\n",
              "          dataTable['output_type'] = 'display_data';\n",
              "          await google.colab.output.renderOutput(dataTable, element);\n",
              "          const docLink = document.createElement('div');\n",
              "          docLink.innerHTML = docLinkHtml;\n",
              "          element.appendChild(docLink);\n",
              "        }\n",
              "      </script>\n",
              "    </div>\n",
              "  </div>\n",
              "  "
            ]
          },
          "metadata": {},
          "execution_count": 187
        }
      ],
      "source": [
        "from sklearn.preprocessing import OrdinalEncoder\n",
        "\n",
        "# Crear una copia del dataset anterior\n",
        "salaries_encoded = salaries_one_hot.copy()\n",
        "\n",
        "# Definir el orden de los tipos de estudios\n",
        "education_order = ['None', 'High School/GED', 'Trade/Vocational', 'Some College', \"Associate's Degree\", \"Bachelor's Degree\", \"Master's Degree\", 'Doctorate Degree']\n",
        "\n",
        "# Crear el objeto OrdinalEncoder con el orden específico\n",
        "ordinal_encoder = OrdinalEncoder(categories=[education_order])\n",
        "\n",
        "# Aplicar el encoding ordinal a la columna 'Education'\n",
        "salaries_encoded['Education'] = ordinal_encoder.fit_transform(salaries_encoded[['Education']])\n",
        "\n",
        "# Verificar los resultados\n",
        "salaries_encoded"
      ]
    },
    {
      "cell_type": "markdown",
      "metadata": {
        "id": "1xwfkCfKD2w5"
      },
      "source": [
        "### 5. Algoritmo de clasificación"
      ]
    },
    {
      "cell_type": "markdown",
      "source": [
        "#### 5.1. Random Forest\n",
        "\n"
      ],
      "metadata": {
        "id": "sZW3wdV0WMT6"
      }
    },
    {
      "cell_type": "code",
      "source": [
        "from sklearn.model_selection import train_test_split\n",
        "from sklearn.ensemble import RandomForestRegressor  \n",
        "from sklearn.ensemble import GradientBoostingRegressor \n",
        "from sklearn.metrics import mean_squared_error, r2_score"
      ],
      "metadata": {
        "id": "zXovvoIHWX0C"
      },
      "execution_count": 188,
      "outputs": []
    },
    {
      "cell_type": "code",
      "execution_count": 189,
      "metadata": {
        "id": "kzyzTL-IjmHP",
        "colab": {
          "base_uri": "https://localhost:8080/",
          "height": 75
        },
        "outputId": "5101b54d-81f4-4ef0-81c0-ee5e42bf1015"
      },
      "outputs": [
        {
          "output_type": "execute_result",
          "data": {
            "text/plain": [
              "RandomForestRegressor()"
            ],
            "text/html": [
              "<style>#sk-container-id-3 {color: black;background-color: white;}#sk-container-id-3 pre{padding: 0;}#sk-container-id-3 div.sk-toggleable {background-color: white;}#sk-container-id-3 label.sk-toggleable__label {cursor: pointer;display: block;width: 100%;margin-bottom: 0;padding: 0.3em;box-sizing: border-box;text-align: center;}#sk-container-id-3 label.sk-toggleable__label-arrow:before {content: \"▸\";float: left;margin-right: 0.25em;color: #696969;}#sk-container-id-3 label.sk-toggleable__label-arrow:hover:before {color: black;}#sk-container-id-3 div.sk-estimator:hover label.sk-toggleable__label-arrow:before {color: black;}#sk-container-id-3 div.sk-toggleable__content {max-height: 0;max-width: 0;overflow: hidden;text-align: left;background-color: #f0f8ff;}#sk-container-id-3 div.sk-toggleable__content pre {margin: 0.2em;color: black;border-radius: 0.25em;background-color: #f0f8ff;}#sk-container-id-3 input.sk-toggleable__control:checked~div.sk-toggleable__content {max-height: 200px;max-width: 100%;overflow: auto;}#sk-container-id-3 input.sk-toggleable__control:checked~label.sk-toggleable__label-arrow:before {content: \"▾\";}#sk-container-id-3 div.sk-estimator input.sk-toggleable__control:checked~label.sk-toggleable__label {background-color: #d4ebff;}#sk-container-id-3 div.sk-label input.sk-toggleable__control:checked~label.sk-toggleable__label {background-color: #d4ebff;}#sk-container-id-3 input.sk-hidden--visually {border: 0;clip: rect(1px 1px 1px 1px);clip: rect(1px, 1px, 1px, 1px);height: 1px;margin: -1px;overflow: hidden;padding: 0;position: absolute;width: 1px;}#sk-container-id-3 div.sk-estimator {font-family: monospace;background-color: #f0f8ff;border: 1px dotted black;border-radius: 0.25em;box-sizing: border-box;margin-bottom: 0.5em;}#sk-container-id-3 div.sk-estimator:hover {background-color: #d4ebff;}#sk-container-id-3 div.sk-parallel-item::after {content: \"\";width: 100%;border-bottom: 1px solid gray;flex-grow: 1;}#sk-container-id-3 div.sk-label:hover label.sk-toggleable__label {background-color: #d4ebff;}#sk-container-id-3 div.sk-serial::before {content: \"\";position: absolute;border-left: 1px solid gray;box-sizing: border-box;top: 0;bottom: 0;left: 50%;z-index: 0;}#sk-container-id-3 div.sk-serial {display: flex;flex-direction: column;align-items: center;background-color: white;padding-right: 0.2em;padding-left: 0.2em;position: relative;}#sk-container-id-3 div.sk-item {position: relative;z-index: 1;}#sk-container-id-3 div.sk-parallel {display: flex;align-items: stretch;justify-content: center;background-color: white;position: relative;}#sk-container-id-3 div.sk-item::before, #sk-container-id-3 div.sk-parallel-item::before {content: \"\";position: absolute;border-left: 1px solid gray;box-sizing: border-box;top: 0;bottom: 0;left: 50%;z-index: -1;}#sk-container-id-3 div.sk-parallel-item {display: flex;flex-direction: column;z-index: 1;position: relative;background-color: white;}#sk-container-id-3 div.sk-parallel-item:first-child::after {align-self: flex-end;width: 50%;}#sk-container-id-3 div.sk-parallel-item:last-child::after {align-self: flex-start;width: 50%;}#sk-container-id-3 div.sk-parallel-item:only-child::after {width: 0;}#sk-container-id-3 div.sk-dashed-wrapped {border: 1px dashed gray;margin: 0 0.4em 0.5em 0.4em;box-sizing: border-box;padding-bottom: 0.4em;background-color: white;}#sk-container-id-3 div.sk-label label {font-family: monospace;font-weight: bold;display: inline-block;line-height: 1.2em;}#sk-container-id-3 div.sk-label-container {text-align: center;}#sk-container-id-3 div.sk-container {/* jupyter's `normalize.less` sets `[hidden] { display: none; }` but bootstrap.min.css set `[hidden] { display: none !important; }` so we also need the `!important` here to be able to override the default hidden behavior on the sphinx rendered scikit-learn.org. See: https://github.com/scikit-learn/scikit-learn/issues/21755 */display: inline-block !important;position: relative;}#sk-container-id-3 div.sk-text-repr-fallback {display: none;}</style><div id=\"sk-container-id-3\" class=\"sk-top-container\"><div class=\"sk-text-repr-fallback\"><pre>RandomForestRegressor()</pre><b>In a Jupyter environment, please rerun this cell to show the HTML representation or trust the notebook. <br />On GitHub, the HTML representation is unable to render, please try loading this page with nbviewer.org.</b></div><div class=\"sk-container\" hidden><div class=\"sk-item\"><div class=\"sk-estimator sk-toggleable\"><input class=\"sk-toggleable__control sk-hidden--visually\" id=\"sk-estimator-id-3\" type=\"checkbox\" checked><label for=\"sk-estimator-id-3\" class=\"sk-toggleable__label sk-toggleable__label-arrow\">RandomForestRegressor</label><div class=\"sk-toggleable__content\"><pre>RandomForestRegressor()</pre></div></div></div></div></div>"
            ]
          },
          "metadata": {},
          "execution_count": 189
        }
      ],
      "source": [
        "X = salaries_encoded.drop(\"Monthly.SalaryUSD\", axis=1)\n",
        "y = salaries_encoded[\"Monthly.SalaryUSD\"]\n",
        "\n",
        "X_train, X_test, y_train, y_test = train_test_split(X, y, test_size=0.2, random_state=42)\n",
        "\n",
        "model = RandomForestRegressor()  \n",
        "model.fit(X_train, y_train)"
      ]
    },
    {
      "cell_type": "code",
      "source": [
        "y_pred = model.predict(X_test)"
      ],
      "metadata": {
        "id": "wBGZQT2yTaRE"
      },
      "execution_count": 190,
      "outputs": []
    },
    {
      "cell_type": "code",
      "source": [
        "mse = mean_squared_error(y_test, y_pred)\n",
        "r2 = r2_score(y_test, y_pred)\n",
        "\n",
        "print(\"Error cuadrático medio:\", mse)\n",
        "print(\"Coeficiente de determinación (R^2):\", r2)"
      ],
      "metadata": {
        "colab": {
          "base_uri": "https://localhost:8080/"
        },
        "id": "W6n-YGEcTbzj",
        "outputId": "a7b2ac8d-8fe7-414a-9ae5-6ef5161c8524"
      },
      "execution_count": 191,
      "outputs": [
        {
          "output_type": "stream",
          "name": "stdout",
          "text": [
            "Error cuadrático medio: 81414.54688888103\n",
            "Coeficiente de determinación (R^2): 0.9937174674659185\n"
          ]
        }
      ]
    },
    {
      "cell_type": "markdown",
      "source": [
        "#### 5.2. Conclusión"
      ],
      "metadata": {
        "id": "xPqjJ5VD_NRA"
      }
    },
    {
      "cell_type": "markdown",
      "source": [
        "Con base en los resultados obtenidos, podemos concluir lo siguiente:\n",
        "\n",
        "1. El error cuadrático medio (MSE) obtenido fue de 77642.36535474448. Este valor indica la magnitud promedio de los errores al predecir los salarios mensuales. Un MSE más bajo indica un mejor ajuste del modelo a los datos. En este caso, el valor obtenido sugiere que el modelo de Random Forest tiene un buen rendimiento en la predicción de los salarios.\n",
        "\n",
        "2. El coeficiente de determinación (R^2) obtenido fue de 0.9940085561486943. Este valor indica la proporción de la variabilidad en la variable objetivo (salarios mensuales) que puede explicarse por el modelo. Un valor de R^2 más cercano a 1 indica un mejor ajuste del modelo a los datos. En este caso, el valor obtenido sugiere que el modelo explica aproximadamente el 99.4% de la variabilidad en los salarios mensuales, lo cual es muy alto.\n",
        "\n",
        "En conclusión, el modelo de Random Forest aplicado a los datos seleccionados muestra un rendimiento muy bueno, con un bajo error cuadrático medio y un alto coeficiente de determinación. Esto indica que el modelo es capaz de realizar predicciones precisas sobre los salarios mensuales en función de las características seleccionadas, como la edad, años de experiencia, industria, puesto de trabajo, educación, país y género."
      ],
      "metadata": {
        "id": "xfhEKRmYWCA8"
      }
    }
  ],
  "metadata": {
    "colab": {
      "provenance": [],
      "authorship_tag": "ABX9TyM3hhuRLzuVxRkttamnUNsC",
      "include_colab_link": true
    },
    "kernelspec": {
      "display_name": "Python 3",
      "name": "python3"
    },
    "language_info": {
      "name": "python"
    }
  },
  "nbformat": 4,
  "nbformat_minor": 0
}